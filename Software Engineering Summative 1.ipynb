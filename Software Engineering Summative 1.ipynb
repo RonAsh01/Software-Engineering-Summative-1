{
 "cells": [
  {
   "cell_type": "code",
   "execution_count": 1,
   "metadata": {},
   "outputs": [],
   "source": [
    "# Import and load required packages\n",
    "import requests\n",
    "import pandas as pd\n",
    "import matplotlib.pyplot as plt\n",
    "import seaborn as sns\n",
    "import tkinter as tk\n",
    "from tkinter import ttk, messagebox\n",
    "from matplotlib.backends.backend_tkagg import FigureCanvasTkAgg"
   ]
  },
  {
   "cell_type": "code",
   "execution_count": null,
   "metadata": {},
   "outputs": [],
   "source": [
    "# Define a function to fetch forecast data from the API\n",
    "def fetch_forecast_data(location, days):\n",
    "    api_key = \"f1a1afe0cebd41a68de112754250301\"  # API key to be embedded into url\n",
    "    url = f\"http://api.weatherapi.com/v1/forecast.json?key={api_key}&q=metar:{location}&days={days}\"\n",
    "    try:\n",
    "        response = requests.get(url)\n",
    "        response.raise_for_status()\n",
    "        return response.json() #.json response from API (as set in URL - can be changed for a .html)\n",
    "    except requests.exceptions.RequestException as e:\n",
    "        messagebox.showerror(\"Error\", f\"Failed to fetch data: {e}\")\n",
    "        return None"
   ]
  }
 ],
 "metadata": {
  "kernelspec": {
   "display_name": "Python 3 (ipykernel)",
   "language": "python",
   "name": "python3"
  },
  "language_info": {
   "codemirror_mode": {
    "name": "ipython",
    "version": 3
   },
   "file_extension": ".py",
   "mimetype": "text/x-python",
   "name": "python",
   "nbconvert_exporter": "python",
   "pygments_lexer": "ipython3",
   "version": "3.10.7"
  }
 },
 "nbformat": 4,
 "nbformat_minor": 2
}
