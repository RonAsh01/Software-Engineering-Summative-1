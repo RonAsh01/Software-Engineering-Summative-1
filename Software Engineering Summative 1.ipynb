{
 "cells": [
  {
   "cell_type": "code",
   "execution_count": 1,
   "metadata": {},
   "outputs": [],
   "source": [
    "# Import and load required packages\n",
    "import requests\n",
    "import pandas as pd\n",
    "import matplotlib.pyplot as plt\n",
    "import seaborn as sns\n",
    "import tkinter as tk\n",
    "from tkinter import ttk, messagebox\n",
    "from matplotlib.backends.backend_tkagg import FigureCanvasTkAgg"
   ]
  },
  {
   "cell_type": "code",
   "execution_count": null,
   "metadata": {},
   "outputs": [],
   "source": [
    "# Define a function to fetch forecast data from the API\n",
    "def fetch_forecast_data(location, days):\n",
    "    api_key = \"f1a1afe0cebd41a68de112754250301\"  # API key to be embedded into url\n",
    "    url = f\"http://api.weatherapi.com/v1/forecast.json?key={api_key}&q=metar:{location}&days={days}\"\n",
    "    try:\n",
    "        response = requests.get(url)\n",
    "        response.raise_for_status()\n",
    "        return response.json() #.json response from API (as set in URL - can be changed for a .html)\n",
    "    except requests.exceptions.RequestException as e:\n",
    "        messagebox.showerror(\"Error\", f\"Failed to fetch data: {e}\")\n",
    "        return None"
   ]
  },
  {
   "cell_type": "code",
   "execution_count": null,
   "metadata": {},
   "outputs": [],
   "source": [
    "# Create a fucntion that processes and stores daily data into a dataframe\n",
    "def process_daily_data(data):\n",
    "    forecast_days = data['forecast']['forecastday'] # Dictionary to access correct part of .json response\n",
    "    daily_data = [] # Create empty list to store data in\n",
    "    for day in forecast_days:\n",
    "        daily_data.append({\n",
    "            \"Date\": day['date'],\n",
    "            \"Max Temp (C)\": day['day']['maxtemp_c'],\n",
    "            \"Min Temp (C)\": day['day']['mintemp_c'],\n",
    "            \"Avg Temp (C)\": day['day']['avgtemp_c'],\n",
    "            \"Condition\": day['day']['condition']['text']\n",
    "        })\n",
    "    return pd.DataFrame(daily_data) # Return list as df when called later"
   ]
  },
  {
   "cell_type": "code",
   "execution_count": null,
   "metadata": {},
   "outputs": [],
   "source": [
    "# Create a function that processes & stores hourly data into a dataframe\n",
    "def process_hourly_data(data):\n",
    "    forecast_days = data['forecast']['forecastday'] # Dictionary to access correct part of .json response\n",
    "    hourly_data = [] # Create empty list to store data in\n",
    "    for day in forecast_days:\n",
    "        for hour in day['hour']:\n",
    "            hourly_data.append({\n",
    "                \"DateTime\": hour['time'],\n",
    "                \"Temperature (C)\": hour['temp_c'],\n",
    "                \"Wind (mph)\": hour['wind_mph'],\n",
    "                \"Gusts (mph)\": hour['gust_mph'],\n",
    "                \"Visibility (miles)\": hour['vis_miles'],\n",
    "                \"Humidity (%)\": hour['humidity']\n",
    "            })\n",
    "    return pd.DataFrame(hourly_data) # Return list as df when called later"
   ]
  }
 ],
 "metadata": {
  "kernelspec": {
   "display_name": "Python 3 (ipykernel)",
   "language": "python",
   "name": "python3"
  },
  "language_info": {
   "codemirror_mode": {
    "name": "ipython",
    "version": 3
   },
   "file_extension": ".py",
   "mimetype": "text/x-python",
   "name": "python",
   "nbconvert_exporter": "python",
   "pygments_lexer": "ipython3",
   "version": "3.10.7"
  }
 },
 "nbformat": 4,
 "nbformat_minor": 2
}
